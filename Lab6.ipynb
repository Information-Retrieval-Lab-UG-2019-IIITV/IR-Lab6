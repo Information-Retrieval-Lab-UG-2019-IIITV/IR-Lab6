{
 "cells": [
  {
   "cell_type": "code",
   "execution_count": 1,
   "metadata": {
    "executionInfo": {
     "elapsed": 364,
     "status": "ok",
     "timestamp": 1631371169613,
     "user": {
      "displayName": "201951010 ABHISHEK TIWARI",
      "photoUrl": "https://lh3.googleusercontent.com/a/default-user=s64",
      "userId": "15916873894952511144"
     },
     "user_tz": -330
    },
    "id": "VOpSghVdw7Lt"
   },
   "outputs": [],
   "source": [
    "import numpy as np\n",
    "import pandas as pd\n",
    "import string\n",
    "import nltk\n",
    "import re\n",
    "from nltk.corpus import stopwords\n",
    "from nltk.tokenize import RegexpTokenizer\n",
    "from sklearn.feature_extraction.text import TfidfVectorizer"
   ]
  },
  {
   "cell_type": "code",
   "execution_count": 2,
   "metadata": {
    "colab": {
     "base_uri": "https://localhost:8080/"
    },
    "executionInfo": {
     "elapsed": 12567,
     "status": "ok",
     "timestamp": 1631370969060,
     "user": {
      "displayName": "201951010 ABHISHEK TIWARI",
      "photoUrl": "https://lh3.googleusercontent.com/a/default-user=s64",
      "userId": "15916873894952511144"
     },
     "user_tz": -330
    },
    "id": "aUPHcKsBawzA",
    "outputId": "6cb61186-0e7d-4717-aaba-5afb97e71dc1"
   },
   "outputs": [],
   "source": [
    "from sklearn.datasets import fetch_20newsgroups\n",
    "X_train, y_train = fetch_20newsgroups(subset='train', return_X_y=True)\n",
    "X_test, y_test = fetch_20newsgroups(subset='test', return_X_y=True)"
   ]
  },
  {
   "cell_type": "code",
   "execution_count": 3,
   "metadata": {
    "colab": {
     "base_uri": "https://localhost:8080/"
    },
    "executionInfo": {
     "elapsed": 1379,
     "status": "ok",
     "timestamp": 1631370998524,
     "user": {
      "displayName": "201951010 ABHISHEK TIWARI",
      "photoUrl": "https://lh3.googleusercontent.com/a/default-user=s64",
      "userId": "15916873894952511144"
     },
     "user_tz": -330
    },
    "id": "ftynjr3zw29O",
    "outputId": "7a4fda76-167c-4b16-d93b-d4ddc3e77c6e"
   },
   "outputs": [
    {
     "name": "stderr",
     "output_type": "stream",
     "text": [
      "[nltk_data] Downloading package stopwords to\n",
      "[nltk_data]     C:\\Users\\dell\\AppData\\Roaming\\nltk_data...\n",
      "[nltk_data]   Package stopwords is already up-to-date!\n",
      "[nltk_data] Downloading package punkt to\n",
      "[nltk_data]     C:\\Users\\dell\\AppData\\Roaming\\nltk_data...\n",
      "[nltk_data]   Package punkt is already up-to-date!\n",
      "[nltk_data] Downloading package wordnet to\n",
      "[nltk_data]     C:\\Users\\dell\\AppData\\Roaming\\nltk_data...\n",
      "[nltk_data]   Package wordnet is already up-to-date!\n"
     ]
    },
    {
     "data": {
      "text/plain": [
       "True"
      ]
     },
     "execution_count": 3,
     "metadata": {},
     "output_type": "execute_result"
    }
   ],
   "source": [
    "nltk.download('stopwords')\n",
    "nltk.download('punkt')\n",
    "nltk.download('wordnet')"
   ]
  },
  {
   "cell_type": "code",
   "execution_count": 4,
   "metadata": {},
   "outputs": [],
   "source": [
    "tokenizer = RegexpTokenizer(r'\\b\\w{3,}\\b')\n",
    "stop_words = list(set(stopwords.words(\"english\")))\n",
    "punctuation = list(string.punctuation)\n",
    "\n",
    "stop_words += punctuation\n",
    "stop_words += ['__', '___']"
   ]
  },
  {
   "cell_type": "code",
   "execution_count": 5,
   "metadata": {},
   "outputs": [],
   "source": [
    "def preprocess(string):\n",
    "    \n",
    "    processed_str = re.sub(r\"\\S+@\\S+\", '', string) #Remove Email\n",
    "    processed_str = re.sub(r\"\\S+.co\\S+\", '', processed_str) #Remove Website\n",
    "    processed_str = re.sub(r\"\\S+.ed\\S+\", '', processed_str) #Remove website\n",
    "    processed_str = re.sub(r\"\\S+.in\\S+\", '', processed_str) #Remove website\n",
    "    processed_str = re.sub(r\"\\S+.edu\\S+\", '', processed_str) #Remove website\n",
    "    processed_str = re.sub(r\"[0-9]+\", '', processed_str) #Remove numbers\n",
    "    return processed_str"
   ]
  },
  {
   "cell_type": "code",
   "execution_count": 6,
   "metadata": {},
   "outputs": [],
   "source": [
    "X_train = list(map(preprocess, X_train))\n",
    "X_test  = list(map(preprocess, X_test))"
   ]
  },
  {
   "cell_type": "code",
   "execution_count": 7,
   "metadata": {
    "colab": {
     "base_uri": "https://localhost:8080/",
     "height": 252
    },
    "executionInfo": {
     "elapsed": 2632,
     "status": "ok",
     "timestamp": 1631371033510,
     "user": {
      "displayName": "201951010 ABHISHEK TIWARI",
      "photoUrl": "https://lh3.googleusercontent.com/a/default-user=s64",
      "userId": "15916873894952511144"
     },
     "user_tz": -330
    },
    "id": "IHZ5QYVCxFQ9",
    "outputId": "e78eb029-ecf0-4604-edc8-3f4657da7377"
   },
   "outputs": [
    {
     "ename": "NameError",
     "evalue": "name 'tfidf' is not defined",
     "output_type": "error",
     "traceback": [
      "\u001b[1;31m---------------------------------------------------------------------------\u001b[0m",
      "\u001b[1;31mNameError\u001b[0m                                 Traceback (most recent call last)",
      "\u001b[1;32m<ipython-input-7-489b59c29b9f>\u001b[0m in \u001b[0;36m<module>\u001b[1;34m\u001b[0m\n\u001b[0;32m      8\u001b[0m \u001b[0mtrain_sparse\u001b[0m \u001b[1;33m=\u001b[0m \u001b[0mtfidf_vectorizer\u001b[0m\u001b[1;33m.\u001b[0m\u001b[0mfit_transform\u001b[0m\u001b[1;33m(\u001b[0m\u001b[0mX_train\u001b[0m\u001b[1;33m)\u001b[0m\u001b[1;33m\u001b[0m\u001b[1;33m\u001b[0m\u001b[0m\n\u001b[0;32m      9\u001b[0m train_df = pd.DataFrame(train_sparse.toarray(), \n\u001b[1;32m---> 10\u001b[1;33m                         columns=tfidf.get_feature_names())\n\u001b[0m\u001b[0;32m     11\u001b[0m \u001b[0mtrain_df\u001b[0m\u001b[1;33m.\u001b[0m\u001b[0mhead\u001b[0m\u001b[1;33m(\u001b[0m\u001b[1;33m)\u001b[0m\u001b[1;33m\u001b[0m\u001b[1;33m\u001b[0m\u001b[0m\n",
      "\u001b[1;31mNameError\u001b[0m: name 'tfidf' is not defined"
     ]
    }
   ],
   "source": [
    "tfidf_vectorizer = TfidfVectorizer(lowercase=True, \n",
    "                        stop_words=stop_words, \n",
    "                        tokenizer=tokenizer.tokenize, \n",
    "                        max_df=0.2,\n",
    "                        min_df=0.02\n",
    "                       )\n",
    "\n",
    "train_sparse = tfidf_vectorizer.fit_transform(X_train)\n",
    "train_df = pd.DataFrame(train_sparse.toarray(), \n",
    "                        columns=tfidf.get_feature_names())\n",
    "train_df.head()"
   ]
  },
  {
   "cell_type": "code",
   "execution_count": null,
   "metadata": {
    "colab": {
     "base_uri": "https://localhost:8080/"
    },
    "executionInfo": {
     "elapsed": 391,
     "status": "ok",
     "timestamp": 1631371036540,
     "user": {
      "displayName": "201951010 ABHISHEK TIWARI",
      "photoUrl": "https://lh3.googleusercontent.com/a/default-user=s64",
      "userId": "15916873894952511144"
     },
     "user_tz": -330
    },
    "id": "445vZ2-dzWt8",
    "outputId": "fee70ede-b4d7-4715-fbc2-344a4907017d"
   },
   "outputs": [],
   "source": [
    "train_df.shape"
   ]
  },
  {
   "cell_type": "code",
   "execution_count": null,
   "metadata": {
    "executionInfo": {
     "elapsed": 3,
     "status": "ok",
     "timestamp": 1631371038766,
     "user": {
      "displayName": "201951010 ABHISHEK TIWARI",
      "photoUrl": "https://lh3.googleusercontent.com/a/default-user=s64",
      "userId": "15916873894952511144"
     },
     "user_tz": -330
    },
    "id": "N74rZhlTxO5q"
   },
   "outputs": [],
   "source": [
    "from sklearn.decomposition import TruncatedSVD\n",
    "lsa_model = TruncatedSVD(n_components=20, n_iter=100, random_state=42) #Reducing dimersion to 20"
   ]
  },
  {
   "cell_type": "code",
   "execution_count": null,
   "metadata": {
    "executionInfo": {
     "elapsed": 19198,
     "status": "ok",
     "timestamp": 1631371060089,
     "user": {
      "displayName": "201951010 ABHISHEK TIWARI",
      "photoUrl": "https://lh3.googleusercontent.com/a/default-user=s64",
      "userId": "15916873894952511144"
     },
     "user_tz": -330
    },
    "id": "Nx-A186RxXzc"
   },
   "outputs": [],
   "source": [
    "#Performing SVD decomposition on the TF-IDF matrix\n",
    "tfidf_lsa = lsa_model.fit_transform(train_df)\n",
    "S = lsa_model.singular_values_\n",
    "V_T = lsa_obj.components_.T"
   ]
  },
  {
   "cell_type": "code",
   "execution_count": null,
   "metadata": {
    "colab": {
     "base_uri": "https://localhost:8080/"
    },
    "executionInfo": {
     "elapsed": 355,
     "status": "ok",
     "timestamp": 1631371072714,
     "user": {
      "displayName": "201951010 ABHISHEK TIWARI",
      "photoUrl": "https://lh3.googleusercontent.com/a/default-user=s64",
      "userId": "15916873894952511144"
     },
     "user_tz": -330
    },
    "id": "L8Z3-Kz3x-e4",
    "outputId": "ed400ebd-79b8-465e-f886-94c950b2f5f4"
   },
   "outputs": [],
   "source": [
    "V_T.shape"
   ]
  },
  {
   "cell_type": "code",
   "execution_count": null,
   "metadata": {
    "colab": {
     "base_uri": "https://localhost:8080/"
    },
    "executionInfo": {
     "elapsed": 616,
     "status": "ok",
     "timestamp": 1631371074678,
     "user": {
      "displayName": "201951010 ABHISHEK TIWARI",
      "photoUrl": "https://lh3.googleusercontent.com/a/default-user=s64",
      "userId": "15916873894952511144"
     },
     "user_tz": -330
    },
    "id": "RFMf6iNQyuu5",
    "outputId": "8ebd74f4-acfe-4081-a796-7ce2784a6a39"
   },
   "outputs": [],
   "source": [
    "tfidf_lsa"
   ]
  },
  {
   "cell_type": "code",
   "execution_count": null,
   "metadata": {
    "colab": {
     "base_uri": "https://localhost:8080/"
    },
    "executionInfo": {
     "elapsed": 377,
     "status": "ok",
     "timestamp": 1631371077303,
     "user": {
      "displayName": "201951010 ABHISHEK TIWARI",
      "photoUrl": "https://lh3.googleusercontent.com/a/default-user=s64",
      "userId": "15916873894952511144"
     },
     "user_tz": -330
    },
    "id": "1NmdUesPzDoj",
    "outputId": "763970de-31c4-4f2f-b880-f389e81050fb"
   },
   "outputs": [],
   "source": [
    "tfidf_lsa.shape #Data dimensionality reduced from 727 to 20"
   ]
  },
  {
   "cell_type": "code",
   "execution_count": null,
   "metadata": {
    "executionInfo": {
     "elapsed": 2,
     "status": "ok",
     "timestamp": 1631371078847,
     "user": {
      "displayName": "201951010 ABHISHEK TIWARI",
      "photoUrl": "https://lh3.googleusercontent.com/a/default-user=s64",
      "userId": "15916873894952511144"
     },
     "user_tz": -330
    },
    "id": "0G-JTvsRzd5c"
   },
   "outputs": [],
   "source": [
    "#use any word of your choice\n",
    "query = 'work' \n",
    "query_vector = []\n",
    "for col in train_df.columns:\n",
    "  if(query == col):\n",
    "    query_vector.append(1)\n",
    "    continue\n",
    "  query_vector.append(0)"
   ]
  },
  {
   "cell_type": "code",
   "execution_count": null,
   "metadata": {
    "colab": {
     "base_uri": "https://localhost:8080/"
    },
    "executionInfo": {
     "elapsed": 367,
     "status": "ok",
     "timestamp": 1631371110578,
     "user": {
      "displayName": "201951010 ABHISHEK TIWARI",
      "photoUrl": "https://lh3.googleusercontent.com/a/default-user=s64",
      "userId": "15916873894952511144"
     },
     "user_tz": -330
    },
    "id": "OGCylihr00ea",
    "outputId": "a6ab71cb-4e43-493c-8de4-a3f1acdc706d"
   },
   "outputs": [],
   "source": [
    "len(query_vector)"
   ]
  },
  {
   "cell_type": "code",
   "execution_count": null,
   "metadata": {
    "colab": {
     "base_uri": "https://localhost:8080/"
    },
    "executionInfo": {
     "elapsed": 374,
     "status": "ok",
     "timestamp": 1631371412047,
     "user": {
      "displayName": "201951010 ABHISHEK TIWARI",
      "photoUrl": "https://lh3.googleusercontent.com/a/default-user=s64",
      "userId": "15916873894952511144"
     },
     "user_tz": -330
    },
    "id": "MDQM8hRR0-bY",
    "outputId": "3bb6b6e8-365c-45d8-fd90-1381aba97ebc"
   },
   "outputs": [],
   "source": [
    " rel = V_T.transpose()*query_vector\n",
    " np.count_nonzero(rel)"
   ]
  },
  {
   "cell_type": "code",
   "execution_count": null,
   "metadata": {
    "colab": {
     "base_uri": "https://localhost:8080/"
    },
    "executionInfo": {
     "elapsed": 376,
     "status": "ok",
     "timestamp": 1631371401014,
     "user": {
      "displayName": "201951010 ABHISHEK TIWARI",
      "photoUrl": "https://lh3.googleusercontent.com/a/default-user=s64",
      "userId": "15916873894952511144"
     },
     "user_tz": -330
    },
    "id": "FwpfDT9oTFGH",
    "outputId": "f7077631-6995-4e3f-ce1a-de0c7123feca"
   },
   "outputs": [],
   "source": [
    "A = train_df.to_numpy()\n",
    "rel2 = A*query_vector\n",
    "np.count_nonzero(rel2)"
   ]
  },
  {
   "cell_type": "code",
   "execution_count": null,
   "metadata": {},
   "outputs": [],
   "source": []
  }
 ],
 "metadata": {
  "colab": {
   "authorship_tag": "ABX9TyPUgOqrRy9yjcyKE2nXGgB/",
   "collapsed_sections": [],
   "name": "LSI_lab.ipynb",
   "provenance": []
  },
  "kernelspec": {
   "display_name": "Python 3",
   "language": "python",
   "name": "python3"
  },
  "language_info": {
   "codemirror_mode": {
    "name": "ipython",
    "version": 3
   },
   "file_extension": ".py",
   "mimetype": "text/x-python",
   "name": "python",
   "nbconvert_exporter": "python",
   "pygments_lexer": "ipython3",
   "version": "3.8.8"
  }
 },
 "nbformat": 4,
 "nbformat_minor": 1
}
