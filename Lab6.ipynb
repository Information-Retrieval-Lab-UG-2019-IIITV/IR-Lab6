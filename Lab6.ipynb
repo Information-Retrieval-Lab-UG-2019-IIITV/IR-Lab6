{
 "cells": [
  {
   "cell_type": "code",
   "execution_count": 1,
   "metadata": {
    "executionInfo": {
     "elapsed": 364,
     "status": "ok",
     "timestamp": 1631371169613,
     "user": {
      "displayName": "201951010 ABHISHEK TIWARI",
      "photoUrl": "https://lh3.googleusercontent.com/a/default-user=s64",
      "userId": "15916873894952511144"
     },
     "user_tz": -330
    },
    "id": "VOpSghVdw7Lt"
   },
   "outputs": [],
   "source": [
    "import numpy as np\n",
    "import pandas as pd\n",
    "import string\n",
    "import nltk\n",
    "import re\n",
    "from nltk.corpus import stopwords\n",
    "from nltk.tokenize import RegexpTokenizer\n",
    "from sklearn.feature_extraction.text import TfidfVectorizer"
   ]
  },
  {
   "cell_type": "code",
   "execution_count": 2,
   "metadata": {
    "colab": {
     "base_uri": "https://localhost:8080/"
    },
    "executionInfo": {
     "elapsed": 12567,
     "status": "ok",
     "timestamp": 1631370969060,
     "user": {
      "displayName": "201951010 ABHISHEK TIWARI",
      "photoUrl": "https://lh3.googleusercontent.com/a/default-user=s64",
      "userId": "15916873894952511144"
     },
     "user_tz": -330
    },
    "id": "aUPHcKsBawzA",
    "outputId": "6cb61186-0e7d-4717-aaba-5afb97e71dc1"
   },
   "outputs": [],
   "source": [
    "from sklearn.datasets import fetch_20newsgroups\n",
    "X_train, y_train = fetch_20newsgroups(subset='train', return_X_y=True)\n",
    "X_test, y_test = fetch_20newsgroups(subset='test', return_X_y=True)"
   ]
  },
  {
   "cell_type": "code",
   "execution_count": 3,
   "metadata": {
    "colab": {
     "base_uri": "https://localhost:8080/"
    },
    "executionInfo": {
     "elapsed": 1379,
     "status": "ok",
     "timestamp": 1631370998524,
     "user": {
      "displayName": "201951010 ABHISHEK TIWARI",
      "photoUrl": "https://lh3.googleusercontent.com/a/default-user=s64",
      "userId": "15916873894952511144"
     },
     "user_tz": -330
    },
    "id": "ftynjr3zw29O",
    "outputId": "7a4fda76-167c-4b16-d93b-d4ddc3e77c6e"
   },
   "outputs": [
    {
     "name": "stderr",
     "output_type": "stream",
     "text": [
      "[nltk_data] Downloading package stopwords to\n",
      "[nltk_data]     C:\\Users\\dell\\AppData\\Roaming\\nltk_data...\n",
      "[nltk_data]   Package stopwords is already up-to-date!\n",
      "[nltk_data] Downloading package punkt to\n",
      "[nltk_data]     C:\\Users\\dell\\AppData\\Roaming\\nltk_data...\n",
      "[nltk_data]   Package punkt is already up-to-date!\n",
      "[nltk_data] Downloading package wordnet to\n",
      "[nltk_data]     C:\\Users\\dell\\AppData\\Roaming\\nltk_data...\n",
      "[nltk_data]   Package wordnet is already up-to-date!\n"
     ]
    },
    {
     "data": {
      "text/plain": [
       "True"
      ]
     },
     "execution_count": 3,
     "metadata": {},
     "output_type": "execute_result"
    }
   ],
   "source": [
    "nltk.download('stopwords')\n",
    "nltk.download('punkt')\n",
    "nltk.download('wordnet')"
   ]
  },
  {
   "cell_type": "code",
   "execution_count": 4,
   "metadata": {},
   "outputs": [],
   "source": [
    "tokenizer = RegexpTokenizer(r'\\b\\w{3,}\\b')\n",
    "stop_words = list(set(stopwords.words(\"english\")))\n",
    "punctuation = list(string.punctuation)\n",
    "\n",
    "stop_words += punctuation\n",
    "stop_words += ['__', '___']"
   ]
  },
  {
   "cell_type": "code",
   "execution_count": 5,
   "metadata": {},
   "outputs": [],
   "source": [
    "def preprocess(string):\n",
    "    \n",
    "    processed_str = re.sub(r\"\\S+@\\S+\", '', string) #Remove Email\n",
    "    processed_str = re.sub(r\"\\S+.co\\S+\", '', processed_str) #Remove Website\n",
    "    processed_str = re.sub(r\"\\S+.ed\\S+\", '', processed_str) #Remove website\n",
    "    processed_str = re.sub(r\"\\S+.in\\S+\", '', processed_str) #Remove website\n",
    "    processed_str = re.sub(r\"\\S+.edu\\S+\", '', processed_str) #Remove website\n",
    "    processed_str = re.sub(r\"[0-9]+\", '', processed_str) #Remove numbers\n",
    "    return processed_str"
   ]
  },
  {
   "cell_type": "code",
   "execution_count": 6,
   "metadata": {},
   "outputs": [],
   "source": [
    "X_train = list(map(preprocess, X_train))\n",
    "X_test  = list(map(preprocess, X_test))"
   ]
  },
  {
   "cell_type": "code",
   "execution_count": 7,
   "metadata": {
    "colab": {
     "base_uri": "https://localhost:8080/",
     "height": 252
    },
    "executionInfo": {
     "elapsed": 2632,
     "status": "ok",
     "timestamp": 1631371033510,
     "user": {
      "displayName": "201951010 ABHISHEK TIWARI",
      "photoUrl": "https://lh3.googleusercontent.com/a/default-user=s64",
      "userId": "15916873894952511144"
     },
     "user_tz": -330
    },
    "id": "IHZ5QYVCxFQ9",
    "outputId": "e78eb029-ecf0-4604-edc8-3f4657da7377"
   },
   "outputs": [
    {
     "data": {
      "text/html": [
       "<div>\n",
       "<style scoped>\n",
       "    .dataframe tbody tr th:only-of-type {\n",
       "        vertical-align: middle;\n",
       "    }\n",
       "\n",
       "    .dataframe tbody tr th {\n",
       "        vertical-align: top;\n",
       "    }\n",
       "\n",
       "    .dataframe thead th {\n",
       "        text-align: right;\n",
       "    }\n",
       "</style>\n",
       "<table border=\"1\" class=\"dataframe\">\n",
       "  <thead>\n",
       "    <tr style=\"text-align: right;\">\n",
       "      <th></th>\n",
       "      <th>able</th>\n",
       "      <th>accept</th>\n",
       "      <th>access</th>\n",
       "      <th>across</th>\n",
       "      <th>act</th>\n",
       "      <th>action</th>\n",
       "      <th>actually</th>\n",
       "      <th>add</th>\n",
       "      <th>address</th>\n",
       "      <th>advance</th>\n",
       "      <th>...</th>\n",
       "      <th>written</th>\n",
       "      <th>wrong</th>\n",
       "      <th>wrote</th>\n",
       "      <th>yeah</th>\n",
       "      <th>year</th>\n",
       "      <th>years</th>\n",
       "      <th>yes</th>\n",
       "      <th>yet</th>\n",
       "      <th>york</th>\n",
       "      <th>young</th>\n",
       "    </tr>\n",
       "  </thead>\n",
       "  <tbody>\n",
       "    <tr>\n",
       "      <th>0</th>\n",
       "      <td>0.0</td>\n",
       "      <td>0.0</td>\n",
       "      <td>0.000000</td>\n",
       "      <td>0.0</td>\n",
       "      <td>0.0</td>\n",
       "      <td>0.0</td>\n",
       "      <td>0.00000</td>\n",
       "      <td>0.00000</td>\n",
       "      <td>0.000000</td>\n",
       "      <td>0.000000</td>\n",
       "      <td>...</td>\n",
       "      <td>0.0</td>\n",
       "      <td>0.0</td>\n",
       "      <td>0.000000</td>\n",
       "      <td>0.0</td>\n",
       "      <td>0.0</td>\n",
       "      <td>0.116068</td>\n",
       "      <td>0.000000</td>\n",
       "      <td>0.000000</td>\n",
       "      <td>0.0</td>\n",
       "      <td>0.0</td>\n",
       "    </tr>\n",
       "    <tr>\n",
       "      <th>1</th>\n",
       "      <td>0.0</td>\n",
       "      <td>0.0</td>\n",
       "      <td>0.000000</td>\n",
       "      <td>0.0</td>\n",
       "      <td>0.0</td>\n",
       "      <td>0.0</td>\n",
       "      <td>0.00000</td>\n",
       "      <td>0.35112</td>\n",
       "      <td>0.000000</td>\n",
       "      <td>0.000000</td>\n",
       "      <td>...</td>\n",
       "      <td>0.0</td>\n",
       "      <td>0.0</td>\n",
       "      <td>0.000000</td>\n",
       "      <td>0.0</td>\n",
       "      <td>0.0</td>\n",
       "      <td>0.000000</td>\n",
       "      <td>0.000000</td>\n",
       "      <td>0.000000</td>\n",
       "      <td>0.0</td>\n",
       "      <td>0.0</td>\n",
       "    </tr>\n",
       "    <tr>\n",
       "      <th>2</th>\n",
       "      <td>0.0</td>\n",
       "      <td>0.0</td>\n",
       "      <td>0.091827</td>\n",
       "      <td>0.0</td>\n",
       "      <td>0.0</td>\n",
       "      <td>0.0</td>\n",
       "      <td>0.08466</td>\n",
       "      <td>0.00000</td>\n",
       "      <td>0.000000</td>\n",
       "      <td>0.099914</td>\n",
       "      <td>...</td>\n",
       "      <td>0.0</td>\n",
       "      <td>0.0</td>\n",
       "      <td>0.000000</td>\n",
       "      <td>0.0</td>\n",
       "      <td>0.0</td>\n",
       "      <td>0.000000</td>\n",
       "      <td>0.000000</td>\n",
       "      <td>0.000000</td>\n",
       "      <td>0.0</td>\n",
       "      <td>0.0</td>\n",
       "    </tr>\n",
       "    <tr>\n",
       "      <th>3</th>\n",
       "      <td>0.0</td>\n",
       "      <td>0.0</td>\n",
       "      <td>0.000000</td>\n",
       "      <td>0.0</td>\n",
       "      <td>0.0</td>\n",
       "      <td>0.0</td>\n",
       "      <td>0.00000</td>\n",
       "      <td>0.00000</td>\n",
       "      <td>0.166543</td>\n",
       "      <td>0.000000</td>\n",
       "      <td>...</td>\n",
       "      <td>0.0</td>\n",
       "      <td>0.0</td>\n",
       "      <td>0.146199</td>\n",
       "      <td>0.0</td>\n",
       "      <td>0.0</td>\n",
       "      <td>0.000000</td>\n",
       "      <td>0.000000</td>\n",
       "      <td>0.000000</td>\n",
       "      <td>0.0</td>\n",
       "      <td>0.0</td>\n",
       "    </tr>\n",
       "    <tr>\n",
       "      <th>4</th>\n",
       "      <td>0.0</td>\n",
       "      <td>0.0</td>\n",
       "      <td>0.000000</td>\n",
       "      <td>0.0</td>\n",
       "      <td>0.0</td>\n",
       "      <td>0.0</td>\n",
       "      <td>0.00000</td>\n",
       "      <td>0.00000</td>\n",
       "      <td>0.000000</td>\n",
       "      <td>0.000000</td>\n",
       "      <td>...</td>\n",
       "      <td>0.0</td>\n",
       "      <td>0.0</td>\n",
       "      <td>0.000000</td>\n",
       "      <td>0.0</td>\n",
       "      <td>0.0</td>\n",
       "      <td>0.000000</td>\n",
       "      <td>0.155993</td>\n",
       "      <td>0.155555</td>\n",
       "      <td>0.0</td>\n",
       "      <td>0.0</td>\n",
       "    </tr>\n",
       "  </tbody>\n",
       "</table>\n",
       "<p>5 rows × 727 columns</p>\n",
       "</div>"
      ],
      "text/plain": [
       "   able  accept    access  across  act  action  actually      add   address  \\\n",
       "0   0.0     0.0  0.000000     0.0  0.0     0.0   0.00000  0.00000  0.000000   \n",
       "1   0.0     0.0  0.000000     0.0  0.0     0.0   0.00000  0.35112  0.000000   \n",
       "2   0.0     0.0  0.091827     0.0  0.0     0.0   0.08466  0.00000  0.000000   \n",
       "3   0.0     0.0  0.000000     0.0  0.0     0.0   0.00000  0.00000  0.166543   \n",
       "4   0.0     0.0  0.000000     0.0  0.0     0.0   0.00000  0.00000  0.000000   \n",
       "\n",
       "    advance  ...  written  wrong     wrote  yeah  year     years       yes  \\\n",
       "0  0.000000  ...      0.0    0.0  0.000000   0.0   0.0  0.116068  0.000000   \n",
       "1  0.000000  ...      0.0    0.0  0.000000   0.0   0.0  0.000000  0.000000   \n",
       "2  0.099914  ...      0.0    0.0  0.000000   0.0   0.0  0.000000  0.000000   \n",
       "3  0.000000  ...      0.0    0.0  0.146199   0.0   0.0  0.000000  0.000000   \n",
       "4  0.000000  ...      0.0    0.0  0.000000   0.0   0.0  0.000000  0.155993   \n",
       "\n",
       "        yet  york  young  \n",
       "0  0.000000   0.0    0.0  \n",
       "1  0.000000   0.0    0.0  \n",
       "2  0.000000   0.0    0.0  \n",
       "3  0.000000   0.0    0.0  \n",
       "4  0.155555   0.0    0.0  \n",
       "\n",
       "[5 rows x 727 columns]"
      ]
     },
     "execution_count": 7,
     "metadata": {},
     "output_type": "execute_result"
    }
   ],
   "source": [
    "tfidf_vectorizer = TfidfVectorizer(lowercase=True, \n",
    "                        stop_words=stop_words, \n",
    "                        tokenizer=tokenizer.tokenize, \n",
    "                        max_df=0.2,\n",
    "                        min_df=0.02\n",
    "                       )\n",
    "\n",
    "train_sparse = tfidf_vectorizer.fit_transform(X_train)\n",
    "train_df = pd.DataFrame(train_sparse.toarray(), \n",
    "                        columns=tfidf_vectorizer.get_feature_names())\n",
    "train_df.head()"
   ]
  },
  {
   "cell_type": "code",
   "execution_count": 8,
   "metadata": {
    "colab": {
     "base_uri": "https://localhost:8080/"
    },
    "executionInfo": {
     "elapsed": 391,
     "status": "ok",
     "timestamp": 1631371036540,
     "user": {
      "displayName": "201951010 ABHISHEK TIWARI",
      "photoUrl": "https://lh3.googleusercontent.com/a/default-user=s64",
      "userId": "15916873894952511144"
     },
     "user_tz": -330
    },
    "id": "445vZ2-dzWt8",
    "outputId": "fee70ede-b4d7-4715-fbc2-344a4907017d"
   },
   "outputs": [
    {
     "data": {
      "text/plain": [
       "(11314, 727)"
      ]
     },
     "execution_count": 8,
     "metadata": {},
     "output_type": "execute_result"
    }
   ],
   "source": [
    "train_df.shape"
   ]
  },
  {
   "cell_type": "code",
   "execution_count": 9,
   "metadata": {
    "executionInfo": {
     "elapsed": 3,
     "status": "ok",
     "timestamp": 1631371038766,
     "user": {
      "displayName": "201951010 ABHISHEK TIWARI",
      "photoUrl": "https://lh3.googleusercontent.com/a/default-user=s64",
      "userId": "15916873894952511144"
     },
     "user_tz": -330
    },
    "id": "N74rZhlTxO5q"
   },
   "outputs": [],
   "source": [
    "from sklearn.decomposition import TruncatedSVD\n",
    "lsa_model = TruncatedSVD(n_components=20, n_iter=100, random_state=42) #Reducing dimersion to 20"
   ]
  },
  {
   "cell_type": "code",
   "execution_count": 10,
   "metadata": {
    "executionInfo": {
     "elapsed": 19198,
     "status": "ok",
     "timestamp": 1631371060089,
     "user": {
      "displayName": "201951010 ABHISHEK TIWARI",
      "photoUrl": "https://lh3.googleusercontent.com/a/default-user=s64",
      "userId": "15916873894952511144"
     },
     "user_tz": -330
    },
    "id": "Nx-A186RxXzc"
   },
   "outputs": [],
   "source": [
    "#Performing SVD decomposition on the TF-IDF matrix\n",
    "tfidf_lsa = lsa_model.fit_transform(train_df)\n",
    "S = lsa_model.singular_values_\n",
    "V_T = lsa_model.components_.T"
   ]
  },
  {
   "cell_type": "code",
   "execution_count": 11,
   "metadata": {
    "colab": {
     "base_uri": "https://localhost:8080/"
    },
    "executionInfo": {
     "elapsed": 355,
     "status": "ok",
     "timestamp": 1631371072714,
     "user": {
      "displayName": "201951010 ABHISHEK TIWARI",
      "photoUrl": "https://lh3.googleusercontent.com/a/default-user=s64",
      "userId": "15916873894952511144"
     },
     "user_tz": -330
    },
    "id": "L8Z3-Kz3x-e4",
    "outputId": "ed400ebd-79b8-465e-f886-94c950b2f5f4"
   },
   "outputs": [
    {
     "data": {
      "text/plain": [
       "(727, 20)"
      ]
     },
     "execution_count": 11,
     "metadata": {},
     "output_type": "execute_result"
    }
   ],
   "source": [
    "V_T.shape"
   ]
  },
  {
   "cell_type": "code",
   "execution_count": 12,
   "metadata": {
    "colab": {
     "base_uri": "https://localhost:8080/"
    },
    "executionInfo": {
     "elapsed": 616,
     "status": "ok",
     "timestamp": 1631371074678,
     "user": {
      "displayName": "201951010 ABHISHEK TIWARI",
      "photoUrl": "https://lh3.googleusercontent.com/a/default-user=s64",
      "userId": "15916873894952511144"
     },
     "user_tz": -330
    },
    "id": "RFMf6iNQyuu5",
    "outputId": "8ebd74f4-acfe-4081-a796-7ce2784a6a39"
   },
   "outputs": [
    {
     "data": {
      "text/plain": [
       "array([[ 0.17972472,  0.03122431, -0.0791767 , ..., -0.21201794,\n",
       "         0.08919038, -0.03944861],\n",
       "       [ 0.16654364,  0.09024264, -0.03261853, ...,  0.00136429,\n",
       "        -0.05589712, -0.02454946],\n",
       "       [ 0.31459888,  0.06313662, -0.03134122, ..., -0.00734951,\n",
       "        -0.0363778 ,  0.06233438],\n",
       "       ...,\n",
       "       [ 0.22499107,  0.08187131,  0.01345797, ..., -0.05637219,\n",
       "         0.01262503, -0.05570488],\n",
       "       [ 0.21207439,  0.05893502,  0.02056072, ..., -0.02133107,\n",
       "        -0.00325343, -0.04632079],\n",
       "       [ 0.15187908,  0.04816709, -0.01286988, ...,  0.04248345,\n",
       "         0.18839341, -0.13397436]])"
      ]
     },
     "execution_count": 12,
     "metadata": {},
     "output_type": "execute_result"
    }
   ],
   "source": [
    "tfidf_lsa"
   ]
  },
  {
   "cell_type": "code",
   "execution_count": 13,
   "metadata": {
    "colab": {
     "base_uri": "https://localhost:8080/"
    },
    "executionInfo": {
     "elapsed": 377,
     "status": "ok",
     "timestamp": 1631371077303,
     "user": {
      "displayName": "201951010 ABHISHEK TIWARI",
      "photoUrl": "https://lh3.googleusercontent.com/a/default-user=s64",
      "userId": "15916873894952511144"
     },
     "user_tz": -330
    },
    "id": "1NmdUesPzDoj",
    "outputId": "763970de-31c4-4f2f-b880-f389e81050fb"
   },
   "outputs": [
    {
     "data": {
      "text/plain": [
       "(11314, 20)"
      ]
     },
     "execution_count": 13,
     "metadata": {},
     "output_type": "execute_result"
    }
   ],
   "source": [
    "tfidf_lsa.shape #Data dimensionality reduced from 727 to 20"
   ]
  },
  {
   "cell_type": "code",
   "execution_count": 14,
   "metadata": {
    "executionInfo": {
     "elapsed": 2,
     "status": "ok",
     "timestamp": 1631371078847,
     "user": {
      "displayName": "201951010 ABHISHEK TIWARI",
      "photoUrl": "https://lh3.googleusercontent.com/a/default-user=s64",
      "userId": "15916873894952511144"
     },
     "user_tz": -330
    },
    "id": "0G-JTvsRzd5c"
   },
   "outputs": [],
   "source": [
    "#use any word of your choice\n",
    "query = 'work' \n",
    "query_vector = []\n",
    "for col in train_df.columns:\n",
    "  if(query == col):\n",
    "    query_vector.append(1)\n",
    "    continue\n",
    "  query_vector.append(0)"
   ]
  },
  {
   "cell_type": "code",
   "execution_count": 15,
   "metadata": {
    "colab": {
     "base_uri": "https://localhost:8080/"
    },
    "executionInfo": {
     "elapsed": 367,
     "status": "ok",
     "timestamp": 1631371110578,
     "user": {
      "displayName": "201951010 ABHISHEK TIWARI",
      "photoUrl": "https://lh3.googleusercontent.com/a/default-user=s64",
      "userId": "15916873894952511144"
     },
     "user_tz": -330
    },
    "id": "OGCylihr00ea",
    "outputId": "a6ab71cb-4e43-493c-8de4-a3f1acdc706d"
   },
   "outputs": [
    {
     "data": {
      "text/plain": [
       "727"
      ]
     },
     "execution_count": 15,
     "metadata": {},
     "output_type": "execute_result"
    }
   ],
   "source": [
    "len(query_vector)"
   ]
  },
  {
   "cell_type": "code",
   "execution_count": 16,
   "metadata": {
    "colab": {
     "base_uri": "https://localhost:8080/"
    },
    "executionInfo": {
     "elapsed": 374,
     "status": "ok",
     "timestamp": 1631371412047,
     "user": {
      "displayName": "201951010 ABHISHEK TIWARI",
      "photoUrl": "https://lh3.googleusercontent.com/a/default-user=s64",
      "userId": "15916873894952511144"
     },
     "user_tz": -330
    },
    "id": "MDQM8hRR0-bY",
    "outputId": "3bb6b6e8-365c-45d8-fd90-1381aba97ebc"
   },
   "outputs": [
    {
     "data": {
      "text/plain": [
       "20"
      ]
     },
     "execution_count": 16,
     "metadata": {},
     "output_type": "execute_result"
    }
   ],
   "source": [
    " rel = V_T.transpose()*query_vector\n",
    " np.count_nonzero(rel)"
   ]
  },
  {
   "cell_type": "code",
   "execution_count": 17,
   "metadata": {
    "colab": {
     "base_uri": "https://localhost:8080/"
    },
    "executionInfo": {
     "elapsed": 376,
     "status": "ok",
     "timestamp": 1631371401014,
     "user": {
      "displayName": "201951010 ABHISHEK TIWARI",
      "photoUrl": "https://lh3.googleusercontent.com/a/default-user=s64",
      "userId": "15916873894952511144"
     },
     "user_tz": -330
    },
    "id": "FwpfDT9oTFGH",
    "outputId": "f7077631-6995-4e3f-ce1a-de0c7123feca"
   },
   "outputs": [
    {
     "data": {
      "text/plain": [
       "1533"
      ]
     },
     "execution_count": 17,
     "metadata": {},
     "output_type": "execute_result"
    }
   ],
   "source": [
    "A = train_df.to_numpy()\n",
    "rel2 = A*query_vector\n",
    "np.count_nonzero(rel2)"
   ]
  },
  {
   "cell_type": "code",
   "execution_count": null,
   "metadata": {},
   "outputs": [],
   "source": []
  }
 ],
 "metadata": {
  "colab": {
   "authorship_tag": "ABX9TyPUgOqrRy9yjcyKE2nXGgB/",
   "collapsed_sections": [],
   "name": "LSI_lab.ipynb",
   "provenance": []
  },
  "kernelspec": {
   "display_name": "Python 3",
   "language": "python",
   "name": "python3"
  },
  "language_info": {
   "codemirror_mode": {
    "name": "ipython",
    "version": 3
   },
   "file_extension": ".py",
   "mimetype": "text/x-python",
   "name": "python",
   "nbconvert_exporter": "python",
   "pygments_lexer": "ipython3",
   "version": "3.8.8"
  }
 },
 "nbformat": 4,
 "nbformat_minor": 1
}
